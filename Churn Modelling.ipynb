{
 "cells": [
  {
   "cell_type": "code",
   "execution_count": 1,
   "metadata": {},
   "outputs": [],
   "source": [
    "import pandas as pd\n",
    "import numpy as np"
   ]
  },
  {
   "cell_type": "code",
   "execution_count": 2,
   "metadata": {},
   "outputs": [],
   "source": [
    "data = pd.read_csv('Churn_Modelling.csv')"
   ]
  },
  {
   "cell_type": "code",
   "execution_count": 3,
   "metadata": {},
   "outputs": [
    {
     "data": {
      "text/html": [
       "<div>\n",
       "<style scoped>\n",
       "    .dataframe tbody tr th:only-of-type {\n",
       "        vertical-align: middle;\n",
       "    }\n",
       "\n",
       "    .dataframe tbody tr th {\n",
       "        vertical-align: top;\n",
       "    }\n",
       "\n",
       "    .dataframe thead th {\n",
       "        text-align: right;\n",
       "    }\n",
       "</style>\n",
       "<table border=\"1\" class=\"dataframe\">\n",
       "  <thead>\n",
       "    <tr style=\"text-align: right;\">\n",
       "      <th></th>\n",
       "      <th>RowNumber</th>\n",
       "      <th>CustomerId</th>\n",
       "      <th>Surname</th>\n",
       "      <th>CreditScore</th>\n",
       "      <th>Geography</th>\n",
       "      <th>Gender</th>\n",
       "      <th>Age</th>\n",
       "      <th>Tenure</th>\n",
       "      <th>Balance</th>\n",
       "      <th>NumOfProducts</th>\n",
       "      <th>HasCrCard</th>\n",
       "      <th>IsActiveMember</th>\n",
       "      <th>EstimatedSalary</th>\n",
       "      <th>Exited</th>\n",
       "    </tr>\n",
       "  </thead>\n",
       "  <tbody>\n",
       "    <tr>\n",
       "      <th>0</th>\n",
       "      <td>1</td>\n",
       "      <td>15634602</td>\n",
       "      <td>Hargrave</td>\n",
       "      <td>619</td>\n",
       "      <td>France</td>\n",
       "      <td>Female</td>\n",
       "      <td>42</td>\n",
       "      <td>2</td>\n",
       "      <td>0.00</td>\n",
       "      <td>1</td>\n",
       "      <td>1</td>\n",
       "      <td>1</td>\n",
       "      <td>101348.88</td>\n",
       "      <td>1</td>\n",
       "    </tr>\n",
       "    <tr>\n",
       "      <th>1</th>\n",
       "      <td>2</td>\n",
       "      <td>15647311</td>\n",
       "      <td>Hill</td>\n",
       "      <td>608</td>\n",
       "      <td>Spain</td>\n",
       "      <td>Female</td>\n",
       "      <td>41</td>\n",
       "      <td>1</td>\n",
       "      <td>83807.86</td>\n",
       "      <td>1</td>\n",
       "      <td>0</td>\n",
       "      <td>1</td>\n",
       "      <td>112542.58</td>\n",
       "      <td>0</td>\n",
       "    </tr>\n",
       "    <tr>\n",
       "      <th>2</th>\n",
       "      <td>3</td>\n",
       "      <td>15619304</td>\n",
       "      <td>Onio</td>\n",
       "      <td>502</td>\n",
       "      <td>France</td>\n",
       "      <td>Female</td>\n",
       "      <td>42</td>\n",
       "      <td>8</td>\n",
       "      <td>159660.80</td>\n",
       "      <td>3</td>\n",
       "      <td>1</td>\n",
       "      <td>0</td>\n",
       "      <td>113931.57</td>\n",
       "      <td>1</td>\n",
       "    </tr>\n",
       "    <tr>\n",
       "      <th>3</th>\n",
       "      <td>4</td>\n",
       "      <td>15701354</td>\n",
       "      <td>Boni</td>\n",
       "      <td>699</td>\n",
       "      <td>France</td>\n",
       "      <td>Female</td>\n",
       "      <td>39</td>\n",
       "      <td>1</td>\n",
       "      <td>0.00</td>\n",
       "      <td>2</td>\n",
       "      <td>0</td>\n",
       "      <td>0</td>\n",
       "      <td>93826.63</td>\n",
       "      <td>0</td>\n",
       "    </tr>\n",
       "    <tr>\n",
       "      <th>4</th>\n",
       "      <td>5</td>\n",
       "      <td>15737888</td>\n",
       "      <td>Mitchell</td>\n",
       "      <td>850</td>\n",
       "      <td>Spain</td>\n",
       "      <td>Female</td>\n",
       "      <td>43</td>\n",
       "      <td>2</td>\n",
       "      <td>125510.82</td>\n",
       "      <td>1</td>\n",
       "      <td>1</td>\n",
       "      <td>1</td>\n",
       "      <td>79084.10</td>\n",
       "      <td>0</td>\n",
       "    </tr>\n",
       "  </tbody>\n",
       "</table>\n",
       "</div>"
      ],
      "text/plain": [
       "   RowNumber  CustomerId   Surname  CreditScore Geography  Gender  Age  \\\n",
       "0          1    15634602  Hargrave          619    France  Female   42   \n",
       "1          2    15647311      Hill          608     Spain  Female   41   \n",
       "2          3    15619304      Onio          502    France  Female   42   \n",
       "3          4    15701354      Boni          699    France  Female   39   \n",
       "4          5    15737888  Mitchell          850     Spain  Female   43   \n",
       "\n",
       "   Tenure    Balance  NumOfProducts  HasCrCard  IsActiveMember  \\\n",
       "0       2       0.00              1          1               1   \n",
       "1       1   83807.86              1          0               1   \n",
       "2       8  159660.80              3          1               0   \n",
       "3       1       0.00              2          0               0   \n",
       "4       2  125510.82              1          1               1   \n",
       "\n",
       "   EstimatedSalary  Exited  \n",
       "0        101348.88       1  \n",
       "1        112542.58       0  \n",
       "2        113931.57       1  \n",
       "3         93826.63       0  \n",
       "4         79084.10       0  "
      ]
     },
     "execution_count": 3,
     "metadata": {},
     "output_type": "execute_result"
    }
   ],
   "source": [
    "data.head()"
   ]
  },
  {
   "cell_type": "code",
   "execution_count": 4,
   "metadata": {},
   "outputs": [],
   "source": [
    "X = data.iloc[:,3:13].values\n",
    "y = data.iloc[:,-1].values"
   ]
  },
  {
   "cell_type": "code",
   "execution_count": 5,
   "metadata": {},
   "outputs": [],
   "source": [
    "from sklearn.preprocessing import LabelEncoder, OneHotEncoder\n",
    "enc_1 = LabelEncoder()\n",
    "X[:,1] = enc_1.fit_transform(X[:,1])\n",
    "enc_2 = LabelEncoder()\n",
    "X[:,2] = enc_2.fit_transform(X[:,2])"
   ]
  },
  {
   "cell_type": "code",
   "execution_count": 6,
   "metadata": {},
   "outputs": [
    {
     "name": "stderr",
     "output_type": "stream",
     "text": [
      "//anaconda3/lib/python3.7/site-packages/sklearn/preprocessing/_encoders.py:415: FutureWarning: The handling of integer data will change in version 0.22. Currently, the categories are determined based on the range [0, max(values)], while in the future they will be determined based on the unique values.\n",
      "If you want the future behaviour and silence this warning, you can specify \"categories='auto'\".\n",
      "In case you used a LabelEncoder before this OneHotEncoder to convert the categories to integers, then you can now use the OneHotEncoder directly.\n",
      "  warnings.warn(msg, FutureWarning)\n",
      "//anaconda3/lib/python3.7/site-packages/sklearn/preprocessing/_encoders.py:451: DeprecationWarning: The 'categorical_features' keyword is deprecated in version 0.20 and will be removed in 0.22. You can use the ColumnTransformer instead.\n",
      "  \"use the ColumnTransformer instead.\", DeprecationWarning)\n"
     ]
    }
   ],
   "source": [
    "onehotencoder = OneHotEncoder()\n",
    "onehotencoder = OneHotEncoder(categorical_features=[1])\n",
    "X=onehotencoder.fit_transform(X).toarray()\n",
    "X = X[:, 1:]"
   ]
  },
  {
   "cell_type": "code",
   "execution_count": 7,
   "metadata": {},
   "outputs": [
    {
     "data": {
      "text/plain": [
       "(10000, 11)"
      ]
     },
     "execution_count": 7,
     "metadata": {},
     "output_type": "execute_result"
    }
   ],
   "source": [
    "X.shape"
   ]
  },
  {
   "cell_type": "code",
   "execution_count": 8,
   "metadata": {},
   "outputs": [],
   "source": [
    "from sklearn.model_selection import train_test_split\n",
    "Xtrain,Xtest,ytrain,ytest=train_test_split(X,y,test_size=0.2,random_state=9)"
   ]
  },
  {
   "cell_type": "code",
   "execution_count": 9,
   "metadata": {},
   "outputs": [],
   "source": [
    "from sklearn.preprocessing import StandardScaler\n",
    "sc = StandardScaler()\n",
    "Xtrain = sc.fit_transform(Xtrain)\n",
    "Xtest = sc.transform(Xtest)"
   ]
  },
  {
   "cell_type": "code",
   "execution_count": 10,
   "metadata": {},
   "outputs": [
    {
     "name": "stderr",
     "output_type": "stream",
     "text": [
      "Using TensorFlow backend.\n"
     ]
    }
   ],
   "source": [
    "import keras\n",
    "from keras.models import Sequential\n",
    "from keras.layers import Dense"
   ]
  },
  {
   "cell_type": "code",
   "execution_count": 11,
   "metadata": {},
   "outputs": [
    {
     "name": "stderr",
     "output_type": "stream",
     "text": [
      "WARNING: Logging before flag parsing goes to stderr.\n",
      "W1129 18:29:45.582839 4670784960 deprecation_wrapper.py:119] From //anaconda3/lib/python3.7/site-packages/keras/backend/tensorflow_backend.py:74: The name tf.get_default_graph is deprecated. Please use tf.compat.v1.get_default_graph instead.\n",
      "\n"
     ]
    }
   ],
   "source": [
    "classifier = Sequential()"
   ]
  },
  {
   "cell_type": "code",
   "execution_count": 12,
   "metadata": {},
   "outputs": [
    {
     "name": "stderr",
     "output_type": "stream",
     "text": [
      "//anaconda3/lib/python3.7/site-packages/ipykernel_launcher.py:1: UserWarning: Update your `Dense` call to the Keras 2 API: `Dense(activation=\"relu\", input_dim=11, units=6, kernel_initializer=\"uniform\")`\n",
      "  \"\"\"Entry point for launching an IPython kernel.\n",
      "W1129 18:29:45.636651 4670784960 deprecation_wrapper.py:119] From //anaconda3/lib/python3.7/site-packages/keras/backend/tensorflow_backend.py:517: The name tf.placeholder is deprecated. Please use tf.compat.v1.placeholder instead.\n",
      "\n",
      "W1129 18:29:45.647117 4670784960 deprecation_wrapper.py:119] From //anaconda3/lib/python3.7/site-packages/keras/backend/tensorflow_backend.py:4138: The name tf.random_uniform is deprecated. Please use tf.random.uniform instead.\n",
      "\n"
     ]
    }
   ],
   "source": [
    "classifier.add(Dense(output_dim = 6, init = 'uniform', activation = 'relu', input_dim = 11))"
   ]
  },
  {
   "cell_type": "code",
   "execution_count": 13,
   "metadata": {},
   "outputs": [
    {
     "name": "stderr",
     "output_type": "stream",
     "text": [
      "//anaconda3/lib/python3.7/site-packages/ipykernel_launcher.py:1: UserWarning: Update your `Dense` call to the Keras 2 API: `Dense(activation=\"relu\", units=6, kernel_initializer=\"uniform\")`\n",
      "  \"\"\"Entry point for launching an IPython kernel.\n"
     ]
    }
   ],
   "source": [
    "classifier.add(Dense(output_dim = 6, init = 'uniform', activation = 'relu'))"
   ]
  },
  {
   "cell_type": "code",
   "execution_count": 14,
   "metadata": {},
   "outputs": [
    {
     "name": "stderr",
     "output_type": "stream",
     "text": [
      "//anaconda3/lib/python3.7/site-packages/ipykernel_launcher.py:1: UserWarning: Update your `Dense` call to the Keras 2 API: `Dense(activation=\"sigmoid\", units=1, kernel_initializer=\"uniform\")`\n",
      "  \"\"\"Entry point for launching an IPython kernel.\n"
     ]
    }
   ],
   "source": [
    "classifier.add(Dense(output_dim = 1, init = 'uniform', activation = 'sigmoid'))"
   ]
  },
  {
   "cell_type": "code",
   "execution_count": 15,
   "metadata": {},
   "outputs": [
    {
     "name": "stderr",
     "output_type": "stream",
     "text": [
      "W1129 18:29:45.747959 4670784960 deprecation_wrapper.py:119] From //anaconda3/lib/python3.7/site-packages/keras/optimizers.py:790: The name tf.train.Optimizer is deprecated. Please use tf.compat.v1.train.Optimizer instead.\n",
      "\n",
      "W1129 18:29:45.783325 4670784960 deprecation_wrapper.py:119] From //anaconda3/lib/python3.7/site-packages/keras/backend/tensorflow_backend.py:3376: The name tf.log is deprecated. Please use tf.math.log instead.\n",
      "\n",
      "W1129 18:29:45.794437 4670784960 deprecation.py:323] From //anaconda3/lib/python3.7/site-packages/tensorflow/python/ops/nn_impl.py:180: add_dispatch_support.<locals>.wrapper (from tensorflow.python.ops.array_ops) is deprecated and will be removed in a future version.\n",
      "Instructions for updating:\n",
      "Use tf.where in 2.0, which has the same broadcast rule as np.where\n"
     ]
    }
   ],
   "source": [
    "classifier.compile(optimizer = 'Adam', loss = 'binary_crossentropy', metrics = ['accuracy'])"
   ]
  },
  {
   "cell_type": "code",
   "execution_count": 16,
   "metadata": {},
   "outputs": [
    {
     "name": "stderr",
     "output_type": "stream",
     "text": [
      "//anaconda3/lib/python3.7/site-packages/ipykernel_launcher.py:1: UserWarning: The `nb_epoch` argument in `fit` has been renamed `epochs`.\n",
      "  \"\"\"Entry point for launching an IPython kernel.\n",
      "W1129 18:29:46.031791 4670784960 deprecation_wrapper.py:119] From //anaconda3/lib/python3.7/site-packages/keras/backend/tensorflow_backend.py:986: The name tf.assign_add is deprecated. Please use tf.compat.v1.assign_add instead.\n",
      "\n"
     ]
    },
    {
     "name": "stdout",
     "output_type": "stream",
     "text": [
      "Epoch 1/100\n",
      "8000/8000 [==============================] - 2s 240us/step - loss: 0.4826 - acc: 0.7980\n",
      "Epoch 2/100\n",
      "8000/8000 [==============================] - 2s 202us/step - loss: 0.4247 - acc: 0.7981\n",
      "Epoch 3/100\n",
      "8000/8000 [==============================] - 2s 196us/step - loss: 0.4187 - acc: 0.7986\n",
      "Epoch 4/100\n",
      "8000/8000 [==============================] - 1s 171us/step - loss: 0.4149 - acc: 0.8221\n",
      "Epoch 5/100\n",
      "8000/8000 [==============================] - 1s 160us/step - loss: 0.4130 - acc: 0.8264\n",
      "Epoch 6/100\n",
      "8000/8000 [==============================] - 1s 161us/step - loss: 0.4113 - acc: 0.8295\n",
      "Epoch 7/100\n",
      "8000/8000 [==============================] - 1s 158us/step - loss: 0.4099 - acc: 0.8302\n",
      "Epoch 8/100\n",
      "8000/8000 [==============================] - 1s 177us/step - loss: 0.4085 - acc: 0.8321 0s - loss: 0.4100 - acc:\n",
      "Epoch 9/100\n",
      "8000/8000 [==============================] - 1s 167us/step - loss: 0.4078 - acc: 0.8331\n",
      "Epoch 10/100\n",
      "8000/8000 [==============================] - 1s 165us/step - loss: 0.4066 - acc: 0.8322\n",
      "Epoch 11/100\n",
      "8000/8000 [==============================] - 1s 167us/step - loss: 0.4062 - acc: 0.8342 1s - \n",
      "Epoch 12/100\n",
      "8000/8000 [==============================] - 1s 168us/step - loss: 0.4052 - acc: 0.8355\n",
      "Epoch 13/100\n",
      "8000/8000 [==============================] - 1s 142us/step - loss: 0.4047 - acc: 0.8356\n",
      "Epoch 14/100\n",
      "8000/8000 [==============================] - 1s 138us/step - loss: 0.4040 - acc: 0.8346\n",
      "Epoch 15/100\n",
      "8000/8000 [==============================] - 2s 190us/step - loss: 0.4040 - acc: 0.8355\n",
      "Epoch 16/100\n",
      "8000/8000 [==============================] - 1s 143us/step - loss: 0.4031 - acc: 0.8344\n",
      "Epoch 17/100\n",
      "8000/8000 [==============================] - 1s 136us/step - loss: 0.4030 - acc: 0.8361\n",
      "Epoch 18/100\n",
      "8000/8000 [==============================] - 1s 144us/step - loss: 0.4028 - acc: 0.8355\n",
      "Epoch 19/100\n",
      "8000/8000 [==============================] - 1s 182us/step - loss: 0.4026 - acc: 0.8352\n",
      "Epoch 20/100\n",
      "8000/8000 [==============================] - 1s 149us/step - loss: 0.4026 - acc: 0.8366\n",
      "Epoch 21/100\n",
      "8000/8000 [==============================] - 1s 135us/step - loss: 0.4019 - acc: 0.8370\n",
      "Epoch 22/100\n",
      "8000/8000 [==============================] - 1s 124us/step - loss: 0.4016 - acc: 0.8364\n",
      "Epoch 23/100\n",
      "8000/8000 [==============================] - 1s 124us/step - loss: 0.4017 - acc: 0.8349\n",
      "Epoch 24/100\n",
      "8000/8000 [==============================] - 1s 121us/step - loss: 0.4012 - acc: 0.8371\n",
      "Epoch 25/100\n",
      "8000/8000 [==============================] - 1s 120us/step - loss: 0.4015 - acc: 0.8356\n",
      "Epoch 26/100\n",
      "8000/8000 [==============================] - 1s 118us/step - loss: 0.4009 - acc: 0.8354\n",
      "Epoch 27/100\n",
      "8000/8000 [==============================] - 1s 118us/step - loss: 0.4012 - acc: 0.8350\n",
      "Epoch 28/100\n",
      "8000/8000 [==============================] - 1s 119us/step - loss: 0.4007 - acc: 0.8361\n",
      "Epoch 29/100\n",
      "8000/8000 [==============================] - 1s 120us/step - loss: 0.4010 - acc: 0.8357\n",
      "Epoch 30/100\n",
      "8000/8000 [==============================] - 1s 122us/step - loss: 0.4008 - acc: 0.8364\n",
      "Epoch 31/100\n",
      "8000/8000 [==============================] - 1s 124us/step - loss: 0.4005 - acc: 0.8369\n",
      "Epoch 32/100\n",
      "8000/8000 [==============================] - 1s 132us/step - loss: 0.4005 - acc: 0.8372\n",
      "Epoch 33/100\n",
      "8000/8000 [==============================] - 1s 137us/step - loss: 0.4002 - acc: 0.8365\n",
      "Epoch 34/100\n",
      "8000/8000 [==============================] - 1s 161us/step - loss: 0.4003 - acc: 0.8366\n",
      "Epoch 35/100\n",
      "8000/8000 [==============================] - 1s 180us/step - loss: 0.4001 - acc: 0.8372\n",
      "Epoch 36/100\n",
      "8000/8000 [==============================] - 1s 141us/step - loss: 0.4007 - acc: 0.8370\n",
      "Epoch 37/100\n",
      "8000/8000 [==============================] - 1s 146us/step - loss: 0.3997 - acc: 0.8371\n",
      "Epoch 38/100\n",
      "8000/8000 [==============================] - 1s 176us/step - loss: 0.4001 - acc: 0.8379\n",
      "Epoch 39/100\n",
      "8000/8000 [==============================] - 1s 153us/step - loss: 0.3998 - acc: 0.8379\n",
      "Epoch 40/100\n",
      "8000/8000 [==============================] - 1s 139us/step - loss: 0.3994 - acc: 0.8365\n",
      "Epoch 41/100\n",
      "8000/8000 [==============================] - 1s 132us/step - loss: 0.3999 - acc: 0.8370\n",
      "Epoch 42/100\n",
      "8000/8000 [==============================] - 1s 141us/step - loss: 0.3999 - acc: 0.8370\n",
      "Epoch 43/100\n",
      "8000/8000 [==============================] - 1s 150us/step - loss: 0.3997 - acc: 0.8359 1s - loss: 0.4049 - acc: 0.8 - ETA: 0s - loss: 0.4046\n",
      "Epoch 44/100\n",
      "8000/8000 [==============================] - 1s 147us/step - loss: 0.3993 - acc: 0.8385\n",
      "Epoch 45/100\n",
      "8000/8000 [==============================] - 1s 172us/step - loss: 0.3990 - acc: 0.8366\n",
      "Epoch 46/100\n",
      "8000/8000 [==============================] - 1s 151us/step - loss: 0.3997 - acc: 0.8371\n",
      "Epoch 47/100\n",
      "8000/8000 [==============================] - 1s 139us/step - loss: 0.3987 - acc: 0.8376\n",
      "Epoch 48/100\n",
      "8000/8000 [==============================] - 1s 142us/step - loss: 0.3987 - acc: 0.8374\n",
      "Epoch 49/100\n",
      "8000/8000 [==============================] - 1s 153us/step - loss: 0.3991 - acc: 0.8369\n",
      "Epoch 50/100\n",
      "8000/8000 [==============================] - 1s 145us/step - loss: 0.3986 - acc: 0.8375\n",
      "Epoch 51/100\n",
      "8000/8000 [==============================] - 1s 141us/step - loss: 0.3992 - acc: 0.8366\n",
      "Epoch 52/100\n",
      "8000/8000 [==============================] - 1s 174us/step - loss: 0.3986 - acc: 0.8371\n",
      "Epoch 53/100\n",
      "8000/8000 [==============================] - 2s 201us/step - loss: 0.3989 - acc: 0.8365\n",
      "Epoch 54/100\n",
      "8000/8000 [==============================] - 1s 150us/step - loss: 0.3991 - acc: 0.8370\n",
      "Epoch 55/100\n",
      "8000/8000 [==============================] - 1s 155us/step - loss: 0.3990 - acc: 0.8364\n",
      "Epoch 56/100\n",
      "8000/8000 [==============================] - 1s 166us/step - loss: 0.3989 - acc: 0.8364\n",
      "Epoch 57/100\n",
      "8000/8000 [==============================] - 1s 144us/step - loss: 0.3988 - acc: 0.8365\n",
      "Epoch 58/100\n",
      "8000/8000 [==============================] - 1s 150us/step - loss: 0.3987 - acc: 0.8359\n",
      "Epoch 59/100\n",
      "8000/8000 [==============================] - 1s 144us/step - loss: 0.3985 - acc: 0.8379\n",
      "Epoch 60/100\n",
      "8000/8000 [==============================] - 1s 155us/step - loss: 0.3990 - acc: 0.8365\n",
      "Epoch 61/100\n",
      "8000/8000 [==============================] - 1s 140us/step - loss: 0.3984 - acc: 0.8381\n",
      "Epoch 62/100\n",
      "8000/8000 [==============================] - 1s 145us/step - loss: 0.3983 - acc: 0.8362\n",
      "Epoch 63/100\n",
      "8000/8000 [==============================] - 1s 157us/step - loss: 0.3986 - acc: 0.8357\n",
      "Epoch 64/100\n",
      "8000/8000 [==============================] - 1s 164us/step - loss: 0.3986 - acc: 0.8372\n",
      "Epoch 65/100\n",
      "8000/8000 [==============================] - 1s 158us/step - loss: 0.3983 - acc: 0.8359\n",
      "Epoch 66/100\n",
      "8000/8000 [==============================] - 1s 150us/step - loss: 0.3985 - acc: 0.8372\n",
      "Epoch 67/100\n",
      "8000/8000 [==============================] - 1s 140us/step - loss: 0.3983 - acc: 0.8377\n",
      "Epoch 68/100\n",
      "8000/8000 [==============================] - 1s 138us/step - loss: 0.3985 - acc: 0.8366\n",
      "Epoch 69/100\n",
      "8000/8000 [==============================] - 1s 138us/step - loss: 0.3985 - acc: 0.8357\n",
      "Epoch 70/100\n",
      "8000/8000 [==============================] - 1s 139us/step - loss: 0.3985 - acc: 0.8364\n",
      "Epoch 71/100\n",
      "8000/8000 [==============================] - 1s 139us/step - loss: 0.3980 - acc: 0.8377\n",
      "Epoch 72/100\n",
      "8000/8000 [==============================] - 1s 138us/step - loss: 0.3980 - acc: 0.8359\n",
      "Epoch 73/100\n",
      "8000/8000 [==============================] - 1s 141us/step - loss: 0.3982 - acc: 0.8364\n",
      "Epoch 74/100\n",
      "8000/8000 [==============================] - 1s 139us/step - loss: 0.3981 - acc: 0.8366\n",
      "Epoch 75/100\n",
      "8000/8000 [==============================] - 1s 141us/step - loss: 0.3984 - acc: 0.8384\n",
      "Epoch 76/100\n",
      "8000/8000 [==============================] - 1s 146us/step - loss: 0.3984 - acc: 0.8377\n",
      "Epoch 77/100\n",
      "8000/8000 [==============================] - 1s 146us/step - loss: 0.3981 - acc: 0.8382\n",
      "Epoch 78/100\n",
      "8000/8000 [==============================] - 1s 141us/step - loss: 0.3985 - acc: 0.8362\n",
      "Epoch 79/100\n",
      "8000/8000 [==============================] - 1s 141us/step - loss: 0.3980 - acc: 0.8367\n",
      "Epoch 80/100\n",
      "8000/8000 [==============================] - 1s 141us/step - loss: 0.3982 - acc: 0.8372\n",
      "Epoch 81/100\n"
     ]
    },
    {
     "name": "stdout",
     "output_type": "stream",
     "text": [
      "8000/8000 [==============================] - 1s 141us/step - loss: 0.3981 - acc: 0.8389\n",
      "Epoch 82/100\n",
      "8000/8000 [==============================] - 1s 130us/step - loss: 0.3981 - acc: 0.8381\n",
      "Epoch 83/100\n",
      "8000/8000 [==============================] - 1s 133us/step - loss: 0.3981 - acc: 0.8375\n",
      "Epoch 84/100\n",
      "8000/8000 [==============================] - 1s 133us/step - loss: 0.3979 - acc: 0.8374\n",
      "Epoch 85/100\n",
      "8000/8000 [==============================] - 1s 131us/step - loss: 0.3982 - acc: 0.8380\n",
      "Epoch 86/100\n",
      "8000/8000 [==============================] - 1s 131us/step - loss: 0.3974 - acc: 0.8372\n",
      "Epoch 87/100\n",
      "8000/8000 [==============================] - 1s 129us/step - loss: 0.3984 - acc: 0.8380\n",
      "Epoch 88/100\n",
      "8000/8000 [==============================] - 1s 129us/step - loss: 0.3979 - acc: 0.8352\n",
      "Epoch 89/100\n",
      "8000/8000 [==============================] - 1s 131us/step - loss: 0.3980 - acc: 0.8385\n",
      "Epoch 90/100\n",
      "8000/8000 [==============================] - 1s 130us/step - loss: 0.3980 - acc: 0.8375\n",
      "Epoch 91/100\n",
      "8000/8000 [==============================] - 1s 129us/step - loss: 0.3980 - acc: 0.8370\n",
      "Epoch 92/100\n",
      "8000/8000 [==============================] - 1s 137us/step - loss: 0.3979 - acc: 0.8394\n",
      "Epoch 93/100\n",
      "8000/8000 [==============================] - 1s 130us/step - loss: 0.3983 - acc: 0.8380\n",
      "Epoch 94/100\n",
      "8000/8000 [==============================] - 1s 131us/step - loss: 0.3981 - acc: 0.8382\n",
      "Epoch 95/100\n",
      "8000/8000 [==============================] - 1s 130us/step - loss: 0.3982 - acc: 0.8361\n",
      "Epoch 96/100\n",
      "8000/8000 [==============================] - 1s 131us/step - loss: 0.3979 - acc: 0.8351\n",
      "Epoch 97/100\n",
      "8000/8000 [==============================] - 1s 131us/step - loss: 0.3981 - acc: 0.8381\n",
      "Epoch 98/100\n",
      "8000/8000 [==============================] - 1s 133us/step - loss: 0.3973 - acc: 0.8377\n",
      "Epoch 99/100\n",
      "8000/8000 [==============================] - 1s 130us/step - loss: 0.3977 - acc: 0.8382\n",
      "Epoch 100/100\n",
      "8000/8000 [==============================] - 1s 130us/step - loss: 0.3981 - acc: 0.8384\n"
     ]
    },
    {
     "data": {
      "text/plain": [
       "<keras.callbacks.History at 0x1a33577320>"
      ]
     },
     "execution_count": 16,
     "metadata": {},
     "output_type": "execute_result"
    }
   ],
   "source": [
    "classifier.fit(Xtrain,ytrain,batch_size=10,nb_epoch=100)"
   ]
  },
  {
   "cell_type": "code",
   "execution_count": 17,
   "metadata": {},
   "outputs": [],
   "source": [
    "y_pred = classifier.predict(Xtest)\n",
    "y_pred = (y_pred > 0.5)"
   ]
  },
  {
   "cell_type": "code",
   "execution_count": 18,
   "metadata": {},
   "outputs": [
    {
     "name": "stdout",
     "output_type": "stream",
     "text": [
      "[[1511   67]\n",
      " [ 265  157]]\n"
     ]
    }
   ],
   "source": [
    "from sklearn.metrics import confusion_matrix\n",
    "cm = confusion_matrix(ytest,y_pred)\n",
    "print (cm)"
   ]
  },
  {
   "cell_type": "code",
   "execution_count": 21,
   "metadata": {},
   "outputs": [
    {
     "data": {
      "text/plain": [
       "0.834"
      ]
     },
     "execution_count": 21,
     "metadata": {},
     "output_type": "execute_result"
    }
   ],
   "source": [
    "(1511+157)/(1511+157+265+67)"
   ]
  },
  {
   "cell_type": "code",
   "execution_count": null,
   "metadata": {},
   "outputs": [],
   "source": []
  }
 ],
 "metadata": {
  "kernelspec": {
   "display_name": "Python 3",
   "language": "python",
   "name": "python3"
  },
  "language_info": {
   "codemirror_mode": {
    "name": "ipython",
    "version": 3
   },
   "file_extension": ".py",
   "mimetype": "text/x-python",
   "name": "python",
   "nbconvert_exporter": "python",
   "pygments_lexer": "ipython3",
   "version": "3.7.3"
  }
 },
 "nbformat": 4,
 "nbformat_minor": 2
}
